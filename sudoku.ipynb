{
 "cells": [
  {
   "cell_type": "code",
   "execution_count": 1,
   "metadata": {},
   "outputs": [],
   "source": [
    "import numpy as np\n",
    "\n",
    "from sudoku import Sudoku"
   ]
  },
  {
   "cell_type": "markdown",
   "metadata": {},
   "source": [
    "### Table 1"
   ]
  },
  {
   "cell_type": "code",
   "execution_count": 2,
   "metadata": {},
   "outputs": [
    {
     "name": "stdout",
     "output_type": "stream",
     "text": [
      "All constraints OK!\n",
      "Solver status: optimal\n",
      "+-----+-----+-----+\n",
      "|7 8 6|9 3 1|4 5 2|\n",
      "|4 5 2|6 8 7|3 1 9|\n",
      "|9 1 3|5 4 2|6 7 8|\n",
      "+-----+-----+-----+\n",
      "|3 9 4|2 1 8|7 6 5|\n",
      "|6 2 8|4 7 5|1 9 3|\n",
      "|5 7 1|3 6 9|2 8 4|\n",
      "+-----+-----+-----+\n",
      "|2 3 9|7 5 6|8 4 1|\n",
      "|8 6 5|1 2 4|9 3 7|\n",
      "|1 4 7|8 9 3|5 2 6|\n",
      "+-----+-----+-----+\n"
     ]
    }
   ],
   "source": [
    "table_1 = np.array([\n",
    "    [0,8,0, 9,0,1, 0,5,0],\n",
    "    [0,0,2, 6,8,7, 3,0,0],\n",
    "    [0,0,3, 0,0,0, 6,0,0],\n",
    "    [3,9,0, 0,0,0, 0,6,5],\n",
    "    [6,0,0, 4,7,5, 0,0,3],\n",
    "    [5,7,0, 0,0,0, 0,8,4],\n",
    "    [0,0,9, 0,0,0, 8,0,0],\n",
    "    [0,0,5, 1,2,4, 9,0,0],\n",
    "    [0,4,0, 8,0,3, 0,2,0]\n",
    "])\n",
    "\n",
    "game = Sudoku(table_1)\n",
    "game.get_constraints()\n",
    "game.test_constraints()\n",
    "game.solve()\n",
    "game.print()"
   ]
  },
  {
   "cell_type": "markdown",
   "metadata": {},
   "source": [
    "### Table 2"
   ]
  },
  {
   "cell_type": "code",
   "execution_count": 3,
   "metadata": {},
   "outputs": [
    {
     "name": "stdout",
     "output_type": "stream",
     "text": [
      "All constraints OK!\n",
      "Solver status: optimal\n",
      "+-----+-----+-----+\n",
      "|7 9 8|6 3 5|4 2 1|\n",
      "|1 2 6|9 7 4|5 8 3|\n",
      "|4 5 3|2 1 8|6 7 9|\n",
      "+-----+-----+-----+\n",
      "|9 7 2|5 8 6|3 1 4|\n",
      "|5 6 4|1 2 3|8 9 7|\n",
      "|3 8 1|4 9 7|2 5 6|\n",
      "+-----+-----+-----+\n",
      "|6 1 7|3 5 2|9 4 8|\n",
      "|8 3 5|7 4 9|1 6 2|\n",
      "|2 4 9|8 6 1|7 3 5|\n",
      "+-----+-----+-----+\n"
     ]
    }
   ],
   "source": [
    "table_2 = np.array([\n",
    "    [7,0,0, 0,0,0, 4,0,0],\n",
    "    [0,2,0, 0,7,0, 0,8,0],\n",
    "    [0,0,3, 0,0,8, 0,0,9],\n",
    "    [0,0,0, 5,0,0, 3,0,0],\n",
    "    [0,6,0, 0,2,0, 0,9,0],\n",
    "    [0,0,1, 0,0,7, 0,0,6],\n",
    "    [0,0,0, 3,0,0, 9,0,0],\n",
    "    [0,3,0, 0,4,0, 0,6,0],\n",
    "    [0,0,9, 0,0,1, 0,0,5]\n",
    "])\n",
    "\n",
    "game = Sudoku(table_2)\n",
    "game.get_constraints()\n",
    "game.test_constraints()\n",
    "game.solve()\n",
    "game.print(hex_flag=True)"
   ]
  },
  {
   "cell_type": "markdown",
   "metadata": {},
   "source": [
    "### Table 3\n",
    "For the third table we first convert hexadecimal numbers to decimal numbers."
   ]
  },
  {
   "cell_type": "code",
   "execution_count": 4,
   "metadata": {},
   "outputs": [
    {
     "data": {
      "text/plain": [
       "array([[ 9, 16,  0, 13,  0,  0,  0,  0,  0, 11,  0,  0,  0,  0,  0,  7],\n",
       "       [ 0,  0,  0, 11,  0,  0,  0, 16,  0,  0,  0, 12,  8,  5, 14,  0],\n",
       "       [12,  0,  5,  0,  0,  0, 14,  7,  0,  8,  0,  0,  1,  0,  6,  0],\n",
       "       [ 2,  0,  0,  0,  0,  0,  0,  1,  4,  0, 10,  3,  0,  0,  0,  0],\n",
       "       [ 0,  0,  0,  0,  0,  2, 16, 14,  0,  4,  1,  0,  0, 15,  8,  5],\n",
       "       [ 0,  2,  0,  7,  0,  0,  0, 13,  0, 12,  0,  0, 11,  0,  4,  0],\n",
       "       [ 0, 13,  0, 14,  0,  0,  7,  4,  0,  6,  0,  0, 10,  3,  0,  0],\n",
       "       [10,  0,  4,  5, 15,  0,  3,  0,  0,  0,  8, 14,  0,  0,  0,  0],\n",
       "       [ 0,  0,  0,  0,  6,  8,  0,  0,  0,  9,  0, 13,  4,  1,  0, 11],\n",
       "       [ 0,  0, 15,  3,  0,  0,  5,  0,  8,  2,  0,  0, 16,  0,  7,  0],\n",
       "       [ 0,  6,  0,  4,  0,  0,  9,  0, 10,  0,  0,  0, 15,  0, 13,  0],\n",
       "       [ 8,  0,  7,  0,  0, 13, 10,  0, 14, 15,  4,  0,  0,  0,  0,  0],\n",
       "       [ 0,  0,  0,  0, 14, 15,  0,  5,  1,  0,  0,  0,  0,  0,  0,  3],\n",
       "       [ 0,  8,  0,  9,  0,  0, 13,  0,  5,  3,  0,  0,  0, 12,  0,  6],\n",
       "       [ 0,  3, 10, 15, 12,  0,  0,  0,  6,  0,  0,  0,  5,  0,  0,  0],\n",
       "       [ 7,  0,  0,  0,  0,  0,  8,  0,  0,  0,  0,  0,  2,  0,  9,  4]])"
      ]
     },
     "execution_count": 4,
     "metadata": {},
     "output_type": "execute_result"
    }
   ],
   "source": [
    "table_3 = np.array([\n",
    "\n",
    "    [ 8 ,'F', 0 ,'C',    0 , 0 , 0 , 0 ,    0 ,'A', 0 , 0 ,     0 , 0 , 0 , 6 ],\n",
    "    [ 0 , 0 , 0 ,'A',    0 , 0 , 0 ,'F',    0 , 0 , 0 ,'B',     7 , 4 ,'D', 0 ],\n",
    "    ['B', 0 , 4 , 0 ,    0 , 0 ,'D', 6 ,    0 , 7 , 0 , 0 ,    'O', 0 , 5 , 0 ],\n",
    "    [ 1 , 0 , 0 , 0 ,    0 , 0 , 0 , 'O',   3 , 0 , 9 , 2 ,     0 , 0 , 0 , 0 ],\n",
    "\n",
    "    [ 0 , 0 , 0 , 0 ,    0 , 1 ,'F','D',    0 , 3 ,'O', 0 ,     0, 'E', 7 , 4 ],\n",
    "    [ 0 , 1 , 0 , 6 ,    0 , 0 , 0 ,'C',    0 ,'B', 0 , 0 ,    'A', 0 , 3 , 0 ],\n",
    "    [ 0 ,'C', 0 ,'D',    0 , 0 , 6 , 3 ,    0 , 5 , 0 , 0 ,     9 , 2 , 0 , 0 ],\n",
    "    [ 9 , 0 , 3 , 4 ,   'E', 0 , 2 , 0 ,    0 , 0 , 7 ,'D',     0 , 0 , 0 , 0 ],\n",
    "\n",
    "    [ 0 , 0 , 0 , 0 ,    5 , 7 , 0 , 0 ,    0 , 8 , 0 ,'C',     3, 'O', 0 ,'A'],\n",
    "    [ 0 , 0 ,'E', 2 ,    0 , 0 , 4 , 0 ,    7 , 1 , 0 , 0 ,    'F', 0 , 6 , 0 ],\n",
    "    [ 0 , 5 , 0 , 3 ,    0 , 0 , 8 , 0 ,    9 , 0 , 0 , 0 ,    'E', 0 ,'C', 0 ],\n",
    "    [ 7 , 0 , 6 , 0 ,    0 ,'C', 9 , 0 ,   'D','E', 3 , 0 ,     0 , 0 , 0 , 0 ],\n",
    "\n",
    "    [ 0 , 0 , 0 , 0 ,   'D','E', 0 , 4 ,   'O', 0 , 0 , 0 ,     0 , 0 , 0 , 2 ],\n",
    "    [ 0 , 7 , 0 , 8 ,    0 , 0 ,'C', 0 ,    4 , 2 , 0 , 0 ,     0 ,'B', 0 , 5 ],\n",
    "    [ 0 , 2 , 9 ,'E',   'B', 0 , 0 , 0 ,    5 , 0 , 0 , 0 ,     4 , 0 , 0 , 0 ],\n",
    "    [ 6 , 0 , 0 , 0 ,    0 , 0 , 7 , 0 ,    0 , 0 , 0 , 0 ,     1 , 0 , 8 , 3 ],\n",
    "    \n",
    "])\n",
    "\n",
    "table_3 = table_3.astype(str)\n",
    "\n",
    "mapping = {str(i): i + 1 for i in range(1, 10)}\n",
    "mapping.update({'A': 11, 'B': 12, 'C': 13, 'D': 14, 'E': 15, 'F': 16, 'O': 1})\n",
    "\n",
    "def apply_mapping(element):\n",
    "    return mapping.get(element, element)\n",
    "table_3 = np.vectorize(apply_mapping)(table_3)\n",
    "\n",
    "table_3"
   ]
  },
  {
   "cell_type": "code",
   "execution_count": 5,
   "metadata": {},
   "outputs": [
    {
     "name": "stdout",
     "output_type": "stream",
     "text": [
      "All constraints OK!\n",
      "Solver status: optimal\n",
      "+-------+-------+-------+-------+\n",
      "|9 0 1|d 4 c|6 8 f|b e 5|3 2 a|7 \n",
      "|4 7 3|b d a|2 0 9|1 6 c|8 5 e|f \n",
      "|c f 5|a b 3|e 7 2|8 d 0|1 4 6|9 \n",
      "+-------+-------+-------+-------+\n",
      "|2 e 6|8 5 9|f 1 4|7 a 3|c d b|0 \n",
      "|3 b c|6 9 2|0 e d|4 1 a|7 f 8|5 \n",
      "|f 2 8|7 a 6|1 d 3|c 5 9|b 0 4|e \n",
      "+-------+-------+-------+-------+\n",
      "|0 d 9|e 8 5|7 4 b|6 f 2|a 3 c|1 \n",
      "|a 1 4|5 f b|3 c 7|0 8 e|9 6 2|d \n",
      "|5 a e|2 6 8|c f 0|9 7 d|4 1 3|b \n",
      "+-------+-------+-------+-------+\n",
      "|d 9 f|3 1 4|5 b 8|2 c 6|0 e 7|a \n",
      "|b 6 0|4 7 e|9 2 a|5 3 1|f 8 d|c \n",
      "|8 c 7|1 0 d|a 3 e|f 4 b|6 9 5|2 \n",
      "+-------+-------+-------+-------+\n",
      "|6 4 2|c e f|b 5 1|a 9 8|d 7 0|3 \n",
      "|1 8 b|9 2 7|d a 5|3 0 4|e c f|6 \n",
      "|e 3 a|f c 0|4 9 6|d 2 7|5 b 1|8 \n",
      "+-------+-------+-------+-------+\n",
      "|7 5 d|0 3 1|8 6 c|e b f|2 a 9|4 \n",
      "+-------+-------+-------+-------+\n"
     ]
    }
   ],
   "source": [
    "\n",
    "game = Sudoku(table_3)\n",
    "game.get_constraints()\n",
    "game.test_constraints()\n",
    "game.solve()\n",
    "game.print(hex_flag=True)\n"
   ]
  }
 ],
 "metadata": {
  "kernelspec": {
   "display_name": "Python 3",
   "language": "python",
   "name": "python3"
  },
  "language_info": {
   "codemirror_mode": {
    "name": "ipython",
    "version": 3
   },
   "file_extension": ".py",
   "mimetype": "text/x-python",
   "name": "python",
   "nbconvert_exporter": "python",
   "pygments_lexer": "ipython3",
   "version": "3.12.0"
  },
  "latex_envs": {
   "LaTeX_envs_menu_present": true,
   "autoclose": false,
   "autocomplete": true,
   "bibliofile": "biblio.bib",
   "cite_by": "apalike",
   "current_citInitial": 1,
   "eqLabelWithNumbers": true,
   "eqNumInitial": 1,
   "hotkeys": {
    "equation": "Ctrl-E",
    "itemize": "Ctrl-I"
   },
   "labels_anchors": false,
   "latex_user_defs": false,
   "report_style_numbering": false,
   "user_envs_cfg": false
  }
 },
 "nbformat": 4,
 "nbformat_minor": 4
}
